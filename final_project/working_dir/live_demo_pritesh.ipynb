{
 "cells": [
  {
   "cell_type": "markdown",
   "metadata": {},
   "source": [
    "First, let's load the JSON file which describes the human pose task.  This is in COCO format, it is the category descriptor pulled from the annotations file.  We modify the COCO category slightly, to add a neck keypoint.  We will use this task description JSON to create a topology tensor, which is an intermediate data structure that describes the part linkages, as well as which channels in the part affinity field each linkage corresponds to."
   ]
  },
  {
   "cell_type": "code",
   "execution_count": 4,
   "metadata": {},
   "outputs": [],
   "source": [
    "import json\n",
    "import trt_pose.coco\n",
    "\n",
    "with open('human_pose.json', 'r') as f:\n",
    "    human_pose = json.load(f)\n",
    "\n",
    "topology = trt_pose.coco.coco_category_to_topology(human_pose)"
   ]
  },
  {
   "cell_type": "markdown",
   "metadata": {},
   "source": [
    "Next, we'll load our model.  Each model takes at least two parameters, *cmap_channels* and *paf_channels* corresponding to the number of heatmap channels\n",
    "and part affinity field channels.  The number of part affinity field channels is 2x the number of links, because each link has a channel corresponding to the\n",
    "x and y direction of the vector field for each link."
   ]
  },
  {
   "cell_type": "code",
   "execution_count": 5,
   "metadata": {},
   "outputs": [],
   "source": [
    "import trt_pose.models\n",
    "\n",
    "num_parts = len(human_pose['keypoints'])\n",
    "num_links = len(human_pose['skeleton'])\n",
    "\n",
    "model = trt_pose.models.resnet18_baseline_att(num_parts, 2 * num_links).cuda().eval()"
   ]
  },
  {
   "cell_type": "markdown",
   "metadata": {},
   "source": [
    "Next, let's load the model weights.  You will need to download these according to the table in the README."
   ]
  },
  {
   "cell_type": "code",
   "execution_count": 6,
   "metadata": {},
   "outputs": [
    {
     "data": {
      "text/plain": [
       "<All keys matched successfully>"
      ]
     },
     "execution_count": 6,
     "metadata": {},
     "output_type": "execute_result"
    }
   ],
   "source": [
    "import torch\n",
    "\n",
    "MODEL_WEIGHTS = 'resnet18_baseline_att_224x224_A_epoch_249.pth'\n",
    "\n",
    "model.load_state_dict(torch.load(MODEL_WEIGHTS))"
   ]
  },
  {
   "cell_type": "markdown",
   "metadata": {},
   "source": [
    "In order to optimize with TensorRT using the python library *torch2trt* we'll also need to create some example data.  The dimensions\n",
    "of this data should match the dimensions that the network was trained with.  Since we're using the resnet18 variant that was trained on\n",
    "an input resolution of 224x224, we set the width and height to these dimensions."
   ]
  },
  {
   "cell_type": "code",
   "execution_count": 7,
   "metadata": {},
   "outputs": [],
   "source": [
    "WIDTH = 224\n",
    "HEIGHT = 224\n",
    "\n",
    "data = torch.zeros((1, 3, HEIGHT, WIDTH)).cuda()"
   ]
  },
  {
   "cell_type": "markdown",
   "metadata": {},
   "source": [
    "Next, we'll use [torch2trt](https://github.com/NVIDIA-AI-IOT/torch2trt) to optimize the model.  We'll enable fp16_mode to allow optimizations to use reduced half precision."
   ]
  },
  {
   "cell_type": "code",
   "execution_count": 8,
   "metadata": {},
   "outputs": [],
   "source": [
    "import torch2trt\n",
    "\n",
    "model_trt = torch2trt.torch2trt(model, [data], fp16_mode=True, max_workspace_size=1<<25)"
   ]
  },
  {
   "cell_type": "markdown",
   "metadata": {},
   "source": [
    "The optimized model may be saved so that we do not need to perform optimization again, we can just load the model.  Please note that TensorRT has device specific optimizations, so you can only use an optimized model on similar platforms."
   ]
  },
  {
   "cell_type": "code",
   "execution_count": 9,
   "metadata": {},
   "outputs": [],
   "source": [
    "OPTIMIZED_MODEL = 'resnet18_baseline_att_224x224_A_epoch_249_trt.pth'\n",
    "\n",
    "torch.save(model_trt.state_dict(), OPTIMIZED_MODEL)"
   ]
  },
  {
   "cell_type": "markdown",
   "metadata": {},
   "source": [
    "We could then load the saved model using *torch2trt* as follows."
   ]
  },
  {
   "cell_type": "code",
   "execution_count": 10,
   "metadata": {},
   "outputs": [
    {
     "data": {
      "text/plain": [
       "<All keys matched successfully>"
      ]
     },
     "execution_count": 10,
     "metadata": {},
     "output_type": "execute_result"
    }
   ],
   "source": [
    "from torch2trt import TRTModule\n",
    "\n",
    "model_trt = TRTModule()\n",
    "model_trt.load_state_dict(torch.load(OPTIMIZED_MODEL))"
   ]
  },
  {
   "cell_type": "markdown",
   "metadata": {},
   "source": [
    "We can benchmark the model in FPS with the following code"
   ]
  },
  {
   "cell_type": "code",
   "execution_count": 11,
   "metadata": {},
   "outputs": [
    {
     "name": "stdout",
     "output_type": "stream",
     "text": [
      "35.83981362596918\n"
     ]
    }
   ],
   "source": [
    "import time\n",
    "\n",
    "t0 = time.time()\n",
    "torch.cuda.current_stream().synchronize()\n",
    "for i in range(50):\n",
    "    y = model_trt(data)\n",
    "torch.cuda.current_stream().synchronize()\n",
    "t1 = time.time()\n",
    "\n",
    "print(50.0 / (t1 - t0))"
   ]
  },
  {
   "cell_type": "markdown",
   "metadata": {},
   "source": [
    "Next, let's define a function that will preprocess the image, which is originally in BGR8 / HWC format."
   ]
  },
  {
   "cell_type": "code",
   "execution_count": 12,
   "metadata": {},
   "outputs": [],
   "source": [
    "import cv2\n",
    "import torchvision.transforms as transforms\n",
    "import PIL.Image\n",
    "\n",
    "mean = torch.Tensor([0.485, 0.456, 0.406]).cuda()\n",
    "std = torch.Tensor([0.229, 0.224, 0.225]).cuda()\n",
    "device = torch.device('cuda')\n",
    "\n",
    "def preprocess(image):\n",
    "    global device\n",
    "    device = torch.device('cuda')\n",
    "    image = cv2.cvtColor(image, cv2.COLOR_BGR2RGB)\n",
    "    image = PIL.Image.fromarray(image)\n",
    "    image = transforms.functional.to_tensor(image).to(device)\n",
    "    image.sub_(mean[:, None, None]).div_(std[:, None, None])\n",
    "    return image[None, ...]"
   ]
  },
  {
   "cell_type": "markdown",
   "metadata": {},
   "source": [
    "Next, we'll define two callable classes that will be used to parse the objects from the neural network, as well as draw the parsed objects on an image."
   ]
  },
  {
   "cell_type": "code",
   "execution_count": 13,
   "metadata": {},
   "outputs": [],
   "source": [
    "from trt_pose.draw_objects import DrawObjects\n",
    "from trt_pose.parse_objects import ParseObjects\n",
    "\n",
    "parse_objects = ParseObjects(topology)\n",
    "draw_objects = DrawObjects(topology)"
   ]
  },
  {
   "cell_type": "markdown",
   "metadata": {},
   "source": [
    "Assuming you're using NVIDIA Jetson, you can use the [jetcam](https://github.com/NVIDIA-AI-IOT/jetcam) package to create an easy to use camera that will produce images in BGR8/HWC format.\n",
    "\n",
    "If you're not on Jetson, you may need to adapt the code below."
   ]
  },
  {
   "cell_type": "code",
   "execution_count": 14,
   "metadata": {},
   "outputs": [
    {
     "name": "stdout",
     "output_type": "stream",
     "text": [
      "ioctl: VIDIOC_ENUM_FMT\r\n",
      "\tIndex       : 0\r\n",
      "\tType        : Video Capture\r\n",
      "\tPixel Format: 'MJPG' (compressed)\r\n",
      "\tName        : Motion-JPEG\r\n",
      "\t\tSize: Discrete 160x120\r\n",
      "\t\t\tInterval: Discrete 0.033s (30.000 fps)\r\n",
      "\t\t\tInterval: Discrete 0.040s (25.000 fps)\r\n",
      "\t\t\tInterval: Discrete 0.050s (20.000 fps)\r\n",
      "\t\t\tInterval: Discrete 0.067s (15.000 fps)\r\n",
      "\t\t\tInterval: Discrete 0.100s (10.000 fps)\r\n",
      "\t\t\tInterval: Discrete 0.200s (5.000 fps)\r\n",
      "\t\tSize: Discrete 176x144\r\n",
      "\t\t\tInterval: Discrete 0.033s (30.000 fps)\r\n",
      "\t\t\tInterval: Discrete 0.040s (25.000 fps)\r\n",
      "\t\t\tInterval: Discrete 0.050s (20.000 fps)\r\n",
      "\t\t\tInterval: Discrete 0.067s (15.000 fps)\r\n",
      "\t\t\tInterval: Discrete 0.100s (10.000 fps)\r\n",
      "\t\t\tInterval: Discrete 0.200s (5.000 fps)\r\n",
      "\t\tSize: Discrete 320x240\r\n",
      "\t\t\tInterval: Discrete 0.033s (30.000 fps)\r\n",
      "\t\t\tInterval: Discrete 0.040s (25.000 fps)\r\n",
      "\t\t\tInterval: Discrete 0.050s (20.000 fps)\r\n",
      "\t\t\tInterval: Discrete 0.067s (15.000 fps)\r\n",
      "\t\t\tInterval: Discrete 0.100s (10.000 fps)\r\n",
      "\t\t\tInterval: Discrete 0.200s (5.000 fps)\r\n",
      "\t\tSize: Discrete 352x288\r\n",
      "\t\t\tInterval: Discrete 0.033s (30.000 fps)\r\n",
      "\t\t\tInterval: Discrete 0.040s (25.000 fps)\r\n",
      "\t\t\tInterval: Discrete 0.050s (20.000 fps)\r\n",
      "\t\t\tInterval: Discrete 0.067s (15.000 fps)\r\n",
      "\t\t\tInterval: Discrete 0.100s (10.000 fps)\r\n",
      "\t\t\tInterval: Discrete 0.200s (5.000 fps)\r\n",
      "\t\tSize: Discrete 640x480\r\n",
      "\t\t\tInterval: Discrete 0.033s (30.000 fps)\r\n",
      "\t\t\tInterval: Discrete 0.040s (25.000 fps)\r\n",
      "\t\t\tInterval: Discrete 0.050s (20.000 fps)\r\n",
      "\t\t\tInterval: Discrete 0.067s (15.000 fps)\r\n",
      "\t\t\tInterval: Discrete 0.100s (10.000 fps)\r\n",
      "\t\t\tInterval: Discrete 0.200s (5.000 fps)\r\n",
      "\t\tSize: Discrete 800x600\r\n",
      "\t\t\tInterval: Discrete 0.033s (30.000 fps)\r\n",
      "\t\t\tInterval: Discrete 0.040s (25.000 fps)\r\n",
      "\t\t\tInterval: Discrete 0.050s (20.000 fps)\r\n",
      "\t\t\tInterval: Discrete 0.067s (15.000 fps)\r\n",
      "\t\t\tInterval: Discrete 0.100s (10.000 fps)\r\n",
      "\t\t\tInterval: Discrete 0.200s (5.000 fps)\r\n",
      "\t\tSize: Discrete 960x720\r\n",
      "\t\t\tInterval: Discrete 0.067s (15.000 fps)\r\n",
      "\t\t\tInterval: Discrete 0.100s (10.000 fps)\r\n",
      "\t\t\tInterval: Discrete 0.200s (5.000 fps)\r\n",
      "\r\n",
      "\tIndex       : 1\r\n",
      "\tType        : Video Capture\r\n",
      "\tPixel Format: 'YUYV'\r\n",
      "\tName        : YUYV 4:2:2\r\n",
      "\t\tSize: Discrete 160x120\r\n",
      "\t\t\tInterval: Discrete 0.033s (30.000 fps)\r\n",
      "\t\t\tInterval: Discrete 0.040s (25.000 fps)\r\n",
      "\t\t\tInterval: Discrete 0.050s (20.000 fps)\r\n",
      "\t\t\tInterval: Discrete 0.067s (15.000 fps)\r\n",
      "\t\t\tInterval: Discrete 0.100s (10.000 fps)\r\n",
      "\t\t\tInterval: Discrete 0.200s (5.000 fps)\r\n",
      "\t\tSize: Discrete 176x144\r\n",
      "\t\t\tInterval: Discrete 0.033s (30.000 fps)\r\n",
      "\t\t\tInterval: Discrete 0.040s (25.000 fps)\r\n",
      "\t\t\tInterval: Discrete 0.050s (20.000 fps)\r\n",
      "\t\t\tInterval: Discrete 0.067s (15.000 fps)\r\n",
      "\t\t\tInterval: Discrete 0.100s (10.000 fps)\r\n",
      "\t\t\tInterval: Discrete 0.200s (5.000 fps)\r\n",
      "\t\tSize: Discrete 320x240\r\n",
      "\t\t\tInterval: Discrete 0.033s (30.000 fps)\r\n",
      "\t\t\tInterval: Discrete 0.040s (25.000 fps)\r\n",
      "\t\t\tInterval: Discrete 0.050s (20.000 fps)\r\n",
      "\t\t\tInterval: Discrete 0.067s (15.000 fps)\r\n",
      "\t\t\tInterval: Discrete 0.100s (10.000 fps)\r\n",
      "\t\t\tInterval: Discrete 0.200s (5.000 fps)\r\n",
      "\t\tSize: Discrete 352x288\r\n",
      "\t\t\tInterval: Discrete 0.033s (30.000 fps)\r\n",
      "\t\t\tInterval: Discrete 0.040s (25.000 fps)\r\n",
      "\t\t\tInterval: Discrete 0.050s (20.000 fps)\r\n",
      "\t\t\tInterval: Discrete 0.067s (15.000 fps)\r\n",
      "\t\t\tInterval: Discrete 0.100s (10.000 fps)\r\n",
      "\t\t\tInterval: Discrete 0.200s (5.000 fps)\r\n",
      "\t\tSize: Discrete 640x480\r\n",
      "\t\t\tInterval: Discrete 0.033s (30.000 fps)\r\n",
      "\t\t\tInterval: Discrete 0.040s (25.000 fps)\r\n",
      "\t\t\tInterval: Discrete 0.050s (20.000 fps)\r\n",
      "\t\t\tInterval: Discrete 0.067s (15.000 fps)\r\n",
      "\t\t\tInterval: Discrete 0.100s (10.000 fps)\r\n",
      "\t\t\tInterval: Discrete 0.200s (5.000 fps)\r\n",
      "\t\tSize: Discrete 800x600\r\n",
      "\t\t\tInterval: Discrete 0.040s (25.000 fps)\r\n",
      "\t\t\tInterval: Discrete 0.050s (20.000 fps)\r\n",
      "\t\t\tInterval: Discrete 0.067s (15.000 fps)\r\n",
      "\t\t\tInterval: Discrete 0.100s (10.000 fps)\r\n",
      "\t\t\tInterval: Discrete 0.200s (5.000 fps)\r\n",
      "\t\tSize: Discrete 960x720\r\n",
      "\t\t\tInterval: Discrete 0.100s (10.000 fps)\r\n",
      "\t\t\tInterval: Discrete 0.200s (5.000 fps)\r\n",
      "\t\tSize: Discrete 1600x1200\r\n",
      "\t\t\tInterval: Discrete 0.200s (5.000 fps)\r\n",
      "\r\n"
     ]
    }
   ],
   "source": [
    "!v4l2-ctl -d /dev/video1 --list-formats-ext"
   ]
  },
  {
   "cell_type": "code",
   "execution_count": 15,
   "metadata": {
    "scrolled": true
   },
   "outputs": [],
   "source": [
    "from jetcam.usb_camera import USBCamera\n",
    "from jetcam.csi_camera import CSICamera\n",
    "#from jetcam.camera import Camera\n",
    "from jetcam.utils import bgr8_to_jpeg\n",
    "\n",
    "camera = USBCamera(width=WIDTH, height=HEIGHT, capture_fps=30, capture_device=1)\n",
    "#camera = CSICamera(width=WIDTH, height=HEIGHT, capture_fps=30)\n",
    "\n",
    "camera.running = True"
   ]
  },
  {
   "cell_type": "markdown",
   "metadata": {},
   "source": [
    "Next, we'll create a widget which will be used to display the camera feed with visualizations."
   ]
  },
  {
   "cell_type": "code",
   "execution_count": 16,
   "metadata": {},
   "outputs": [
    {
     "data": {
      "application/vnd.jupyter.widget-view+json": {
       "model_id": "f5de6930291848108833e27b47e626b4",
       "version_major": 2,
       "version_minor": 0
      },
      "text/plain": [
       "Image(value=b'', format='jpeg')"
      ]
     },
     "metadata": {},
     "output_type": "display_data"
    }
   ],
   "source": [
    "import ipywidgets\n",
    "from IPython.display import display\n",
    "\n",
    "image_w = ipywidgets.Image(format='jpeg')\n",
    "\n",
    "display(image_w)"
   ]
  },
  {
   "cell_type": "markdown",
   "metadata": {},
   "source": [
    "Finally, we'll define the main execution loop.  This will perform the following steps\n",
    "\n",
    "1.  Preprocess the camera image\n",
    "2.  Execute the neural network\n",
    "3.  Parse the objects from the neural network output\n",
    "4.  Draw the objects onto the camera image\n",
    "5.  Convert the image to JPEG format and stream to the display widget"
   ]
  },
  {
   "cell_type": "code",
   "execution_count": 17,
   "metadata": {},
   "outputs": [],
   "source": [
    "kp_map = [\"nose\", \"leftEye\", \"rightEye\", \"leftEar\", \"rightEar\", \"leftShoulder\", \"rightShoulder\", \n",
    "          \"leftElbow\", \"rightElbow\", \"leftWrist\", \"rightWrist\", \"leftHip\",\"rightHip\", \n",
    "          \"leftKnee\", \"rightKnee\", \"leftAnkle\", \"rightAnkle\", \"1?\", \"2?\"]\n",
    "\n",
    "'''\n",
    "hnum: 0 based human index\n",
    "kpoint : index + keypoints (float type range : 0.0 ~ 1.0 ==> later multiply by image width, height)\n",
    "'''\n",
    "def get_keypoint(humans, hnum, peaks):\n",
    "    #check invalid human index\n",
    "    kpoint = []\n",
    "    human = humans[0][hnum]\n",
    "    C = human.shape[0]\n",
    "    for j in range(C):\n",
    "        k = int(human[j])\n",
    "        print('index:%s :'%(kp_map[j]))\n",
    "        if k >= 0:\n",
    "            peak = peaks[0][j][k]   # peak[1]:width, peak[0]:height\n",
    "            peak = (j, float(peak[0]), float(peak[1]))\n",
    "            kpoint.append(peak)\n",
    "            print('[%5.3f, %5.3f]'%(peak[1], peak[2]) )\n",
    "            print('[%d,%d]'%(peak[1]*224, peak[2]*224) )  \n",
    "            \n",
    "        else:    \n",
    "            peak = (j, None, None)\n",
    "            kpoint.append(peak)\n",
    "            print('None')\n",
    "    return kpoint\n",
    "\n"
   ]
  },
  {
   "cell_type": "code",
   "execution_count": 16,
   "metadata": {},
   "outputs": [],
   "source": [
    "def execute(change):\n",
    "    image = change['new']\n",
    "    data = preprocess(image)\n",
    "    cmap, paf = model_trt(data)\n",
    "    cmap, paf = cmap.detach().cpu(), paf.detach().cpu()\n",
    "    counts, objects, peaks = parse_objects(cmap, paf)#, cmap_threshold=0.15, link_threshold=0.15)\n",
    "    print(cmap.size(), paf.size())\n",
    "    for i in range(counts[0]):\n",
    "        print(\"Human index:%d\"%( i ))\n",
    "        get_keypoint(objects, i, peaks)\n",
    "    draw_objects(image, counts, objects, peaks)\n",
    "    image_w.value = bgr8_to_jpeg(image[:, ::-1, :])"
   ]
  },
  {
   "cell_type": "markdown",
   "metadata": {},
   "source": [
    "If we call the cell below it will execute the function once on the current camera frame."
   ]
  },
  {
   "cell_type": "code",
   "execution_count": 17,
   "metadata": {},
   "outputs": [
    {
     "name": "stdout",
     "output_type": "stream",
     "text": [
      "torch.Size([1, 18, 56, 56]) torch.Size([1, 42, 56, 56])\n"
     ]
    }
   ],
   "source": [
    "execute({'new': camera.value})"
   ]
  },
  {
   "cell_type": "code",
   "execution_count": 18,
   "metadata": {},
   "outputs": [
    {
     "name": "stdout",
     "output_type": "stream",
     "text": [
      "Human index:0 \n",
      "index:nose :\n",
      "None\n",
      "index:leftEye :\n",
      "None\n",
      "index:rightEye :\n",
      "None\n",
      "index:leftEar :\n",
      "None\n",
      "index:rightEar :\n",
      "None\n",
      "index:leftShoulder :\n",
      "None\n",
      "index:rightShoulder :\n",
      "None\n",
      "index:leftElbow :\n",
      "None\n",
      "index:rightElbow :\n",
      "None\n",
      "index:leftWrist :\n",
      "None\n",
      "index:rightWrist :\n",
      "None\n",
      "index:leftHip :\n",
      "None\n",
      "index:rightHip :\n",
      "None\n",
      "index:leftKnee :\n",
      "[0.069, 0.590]\n",
      "[15,132]\n",
      "index:rightKnee :\n",
      "None\n",
      "index:leftAnkle :\n",
      "[0.776, 0.851]\n",
      "[173,190]\n",
      "index:rightAnkle :\n",
      "None\n",
      "index:1? :\n",
      "None\n",
      "Human index:1 \n",
      "index:nose :\n",
      "None\n",
      "index:leftEye :\n",
      "None\n",
      "index:rightEye :\n",
      "None\n",
      "index:leftEar :\n",
      "None\n",
      "index:rightEar :\n",
      "None\n",
      "index:leftShoulder :\n",
      "None\n",
      "index:rightShoulder :\n",
      "None\n",
      "index:leftElbow :\n",
      "None\n",
      "index:rightElbow :\n",
      "None\n",
      "index:leftWrist :\n",
      "None\n",
      "index:rightWrist :\n",
      "None\n",
      "index:leftHip :\n",
      "None\n",
      "index:rightHip :\n",
      "None\n",
      "index:leftKnee :\n",
      "[0.498, 0.417]\n",
      "[111,93]\n",
      "index:rightKnee :\n",
      "None\n",
      "index:leftAnkle :\n",
      "None\n",
      "index:rightAnkle :\n",
      "None\n",
      "index:1? :\n",
      "None\n",
      "Human index:2 \n",
      "index:nose :\n",
      "None\n",
      "index:leftEye :\n",
      "None\n",
      "index:rightEye :\n",
      "None\n",
      "index:leftEar :\n",
      "None\n",
      "index:rightEar :\n",
      "None\n",
      "index:leftShoulder :\n",
      "None\n",
      "index:rightShoulder :\n",
      "None\n",
      "index:leftElbow :\n",
      "None\n",
      "index:rightElbow :\n",
      "None\n",
      "index:leftWrist :\n",
      "None\n",
      "index:rightWrist :\n",
      "None\n",
      "index:leftHip :\n",
      "None\n",
      "index:rightHip :\n",
      "None\n",
      "index:leftKnee :\n",
      "None\n",
      "index:rightKnee :\n",
      "[0.431, 0.718]\n",
      "[96,160]\n",
      "index:leftAnkle :\n",
      "None\n",
      "index:rightAnkle :\n",
      "[0.773, 0.842]\n",
      "[173,188]\n",
      "index:1? :\n",
      "None\n",
      "Human count:3 len:1 \n"
     ]
    },
    {
     "data": {
      "image/png": "[encoded data removed]",
      "text/plain": [
       "<Figure size 432x288 with 1 Axes>"
      ]
     },
     "metadata": {
      "needs_background": "light"
     },
     "output_type": "display_data"
    }
   ],
   "source": [
    "%matplotlib inline\n",
    "from matplotlib import pyplot as plt\n",
    "import cv2\n",
    "\n",
    "def execute2(img):\n",
    "    data = preprocess(img)\n",
    "    cmap, paf = model_trt(data)\n",
    "    cmap, paf = cmap.detach().cpu(), paf.detach().cpu()\n",
    "    counts, objects, peaks = parse_objects(cmap, paf)#, cmap_threshold=0.15, link_threshold=0.15)\n",
    "    for i in range(counts[0]):\n",
    "        print(\"Human index:%d \"%( i ))\n",
    "        get_keypoint(objects, i, peaks)\n",
    "    print(\"Human count:%d len:%d \"%(counts[0], len(counts)))\n",
    "    draw_objects(img, counts, objects, peaks)\n",
    "#    cv2.imshow('key',img)\n",
    "#    cv2.imwrite('/tmp/key.png',img)\n",
    "    plt.imshow(img)\n",
    "    plt.show()\n",
    "    \n",
    "src = cv2.imread(\"/image1.png\", cv2.IMREAD_COLOR)\n",
    "img = cv2.resize(src, dsize=(224, 224), interpolation=cv2.INTER_AREA)\n",
    "parse_objects = ParseObjects(topology)\n",
    "draw_objects = DrawObjects(topology)\n",
    "execute2(img)"
   ]
  },
  {
   "cell_type": "markdown",
   "metadata": {},
   "source": [
    "Call the cell below to attach the execution function to the camera's internal value.  This will cause the execute function to be called whenever a new camera frame is received."
   ]
  },
  {
   "cell_type": "code",
   "execution_count": null,
   "metadata": {},
   "outputs": [],
   "source": [
    "camera.observe(execute, names='value')"
   ]
  },
  {
   "cell_type": "markdown",
   "metadata": {},
   "source": [
    "Call the cell below to unattach the camera frame callbacks."
   ]
  },
  {
   "cell_type": "code",
   "execution_count": null,
   "metadata": {},
   "outputs": [],
   "source": [
    "camera.unobserve_all()"
   ]
  },
  {
   "cell_type": "code",
   "execution_count": null,
   "metadata": {},
   "outputs": [],
   "source": []
  }
 ],
 "metadata": {
  "kernelspec": {
   "display_name": "Python 3",
   "language": "python",
   "name": "python3"
  },
  "language_info": {
   "codemirror_mode": {
    "name": "ipython",
    "version": 3
   },
   "file_extension": ".py",
   "mimetype": "text/x-python",
   "name": "python",
   "nbconvert_exporter": "python",
   "pygments_lexer": "ipython3",
   "version": "3.6.9"
  }
 },
 "nbformat": 4,
 "nbformat_minor": 4
}
